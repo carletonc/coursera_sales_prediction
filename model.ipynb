{
 "cells": [
  {
   "cell_type": "code",
   "execution_count": null,
   "id": "6ccbd02c-762b-472d-bdb1-e8778802d7e3",
   "metadata": {},
   "outputs": [],
   "source": [
    "import numpy as np\n",
    "import pandas as pd\n",
    "\n",
    "import model as mdl\n",
    "import viz\n",
    "\n",
    "pd.options.display.float_format = '{:.8f}'.format\n",
    "pd.options.display.max_rows = 200\n",
    "pd.options.display.max_columns = 200"
   ]
  },
  {
   "cell_type": "code",
   "execution_count": null,
   "id": "37a60b18-6c14-4ce6-af6f-46c924f262ef",
   "metadata": {
    "scrolled": true,
    "tags": []
   },
   "outputs": [],
   "source": [
    "train = pd.read_pickle('tmp/data/train.pkl').fillna(0)\n",
    "train.isnull().describe().transpose()"
   ]
  },
  {
   "cell_type": "code",
   "execution_count": null,
   "id": "90681d9d-d054-4990-8aa4-0d2c619ce6bd",
   "metadata": {
    "scrolled": true,
    "tags": []
   },
   "outputs": [],
   "source": [
    "describe = train.describe().transpose()\n",
    "describe = describe.loc[(describe['mean']!=0) & (describe['std']!=0)]\n",
    "features = describe.index.tolist()\n",
    "train = train[features]"
   ]
  },
  {
   "cell_type": "code",
   "execution_count": null,
   "id": "42cd86b0-62db-48fd-85c7-04bae9b16a30",
   "metadata": {},
   "outputs": [],
   "source": [
    "viz.correlation(train)"
   ]
  },
  {
   "cell_type": "code",
   "execution_count": null,
   "id": "c5cf6f35-0cdd-44cd-bb5d-87974b67baa0",
   "metadata": {},
   "outputs": [],
   "source": [
    "data = mdl.get_data(path=train)\n",
    "X_train, y_train, X_val, y_val = data"
   ]
  },
  {
   "cell_type": "markdown",
   "id": "cbfd10f6-15ab-44fe-970c-7b97b0aaa770",
   "metadata": {},
   "source": [
    "## Import Models To Train"
   ]
  },
  {
   "cell_type": "code",
   "execution_count": null,
   "id": "ef561111-34fe-4d45-9d15-c9aee31a5f1f",
   "metadata": {},
   "outputs": [],
   "source": [
    "from sklearn.pipeline import Pipeline\n",
    "from sklearn.preprocessing import StandardScaler, MinMaxScaler, RobustScaler\n",
    "from sklearn.decomposition import PCA\n",
    "from sklearn.linear_model import LinearRegression, Lasso, Ridge, ElasticNet, SGDRegressor\n",
    "from sklearn.ensemble import RandomForestRegressor\n",
    "from sklearn.svm import LinearSVR, SVR"
   ]
  },
  {
   "cell_type": "markdown",
   "id": "ed36faa1-fde9-499a-992d-5e0bb7ffb463",
   "metadata": {},
   "source": [
    "## Baseline Linear Regression"
   ]
  },
  {
   "cell_type": "code",
   "execution_count": null,
   "id": "c4cc7246-387b-4fb6-9450-e827b88a9cb9",
   "metadata": {},
   "outputs": [],
   "source": [
    "model = LinearRegression()\n",
    "\n",
    "pipeline = Pipeline([('model', model)])\n",
    "params = {}\n",
    "n_experiments = 1\n",
    "\n",
    "# run experiment\n",
    "mdl.run_experiment(data, pipeline, params, n_experiments)"
   ]
  },
  {
   "cell_type": "code",
   "execution_count": null,
   "id": "bbb34a99-2902-4955-b0e9-ff3896b48967",
   "metadata": {},
   "outputs": [],
   "source": [
    "scaler = StandardScaler()\n",
    "model = LinearRegression()\n",
    "\n",
    "pipeline = Pipeline([('scaler', scaler),\n",
    "                     ('model', model)])\n",
    "params = {}\n",
    "n_experiments = 1\n",
    "\n",
    "# run experiment\n",
    "mdl.run_experiment(data, pipeline, params, n_experiments)"
   ]
  },
  {
   "cell_type": "code",
   "execution_count": null,
   "id": "086aa153-1ab2-4b10-aae9-e2b8309eb48e",
   "metadata": {},
   "outputs": [],
   "source": [
    "scaler = StandardScaler()\n",
    "pca = PCA(0.99, random_state=42)\n",
    "model = LinearRegression()\n",
    "\n",
    "pipeline = Pipeline([('scaler', scaler),\n",
    "                     ('pca', pca),\n",
    "                     ('model', model)])\n",
    "params = {}\n",
    "n_experiments = 1\n",
    "\n",
    "# run experiment\n",
    "mdl.run_experiment(data, pipeline, params, n_experiments)"
   ]
  },
  {
   "cell_type": "markdown",
   "id": "3892dfe9-0400-4709-9f40-f21edf77090b",
   "metadata": {},
   "source": [
    "## Lasso Regression (L1 Regularization)"
   ]
  },
  {
   "cell_type": "code",
   "execution_count": null,
   "id": "cf7d1090-b4c1-4ee6-8052-4146f00bdce1",
   "metadata": {},
   "outputs": [],
   "source": [
    "scaler = StandardScaler()\n",
    "model = Lasso(random_state=42)\n",
    "\n",
    "pipeline = Pipeline([('scaler', scaler),\n",
    "                     ('model', model)])\n",
    "params = {}\n",
    "n_experiments = 1\n",
    "\n",
    "# run experiment\n",
    "mdl.run_experiment(data, pipeline, params, n_experiments)"
   ]
  },
  {
   "cell_type": "code",
   "execution_count": null,
   "id": "f0010e15-71e2-4011-8bdd-b5d758b4d7a6",
   "metadata": {},
   "outputs": [],
   "source": [
    "scaler = StandardScaler()\n",
    "pca = PCA(0.99, random_state=42)\n",
    "model = Lasso(random_state=42)\n",
    "\n",
    "pipeline = Pipeline([('scaler', scaler),\n",
    "                     ('pca', pca),\n",
    "                     ('model', model)])\n",
    "params = {}\n",
    "n_experiments = 1\n",
    "\n",
    "# run experiment\n",
    "mdl.run_experiment(data, pipeline, params, n_experiments)"
   ]
  },
  {
   "cell_type": "code",
   "execution_count": null,
   "id": "be3d19bc-edb6-47f7-9ed2-de6d3c652d10",
   "metadata": {},
   "outputs": [],
   "source": [
    "scaler = StandardScaler()\n",
    "model = Lasso(alpha=0.1, random_state=42)\n",
    "\n",
    "pipeline = Pipeline([('scaler', scaler),\n",
    "                     ('model', model)])\n",
    "params = {}\n",
    "n_experiments = 1\n",
    "\n",
    "# run experiment\n",
    "mdl.run_experiment(data, pipeline, params, n_experiments)"
   ]
  },
  {
   "cell_type": "code",
   "execution_count": null,
   "id": "92776393-fa07-4e91-a1bc-173619183b00",
   "metadata": {},
   "outputs": [],
   "source": [
    "scaler = StandardScaler()\n",
    "pca = PCA(0.99, random_state=42)\n",
    "model = Lasso(alpha=0.1, random_state=42)\n",
    "\n",
    "pipeline = Pipeline([('scaler', scaler),\n",
    "                     ('pca', pca),\n",
    "                     ('model', model)])\n",
    "params = {}\n",
    "n_experiments = 1\n",
    "\n",
    "# run experiment\n",
    "mdl.run_experiment(data, pipeline, params, n_experiments)"
   ]
  },
  {
   "cell_type": "markdown",
   "id": "f6c04e7a-4ebf-4764-9e4e-a56f75bd0952",
   "metadata": {},
   "source": [
    "## Ridge Regression (L2 Regularization)"
   ]
  },
  {
   "cell_type": "code",
   "execution_count": null,
   "id": "97b1a30c-db7d-4223-a6a4-0c88cb5122b5",
   "metadata": {},
   "outputs": [],
   "source": [
    "model = Ridge(random_state=42)\n",
    "\n",
    "pipeline = Pipeline([('model', model)])\n",
    "params = {}\n",
    "n_experiments = 1\n",
    "\n",
    "# run experiment\n",
    "mdl.run_experiment(data, pipeline, params, n_experiments)"
   ]
  },
  {
   "cell_type": "code",
   "execution_count": null,
   "id": "0416c8c1-9f95-4988-ab53-cf1e56f62d1a",
   "metadata": {},
   "outputs": [],
   "source": [
    "scaler = StandardScaler()\n",
    "model = Ridge(random_state=42)\n",
    "\n",
    "pipeline = Pipeline([('scaler', scaler),\n",
    "                     ('model', model)])\n",
    "params = {}\n",
    "n_experiments = 1\n",
    "\n",
    "# run experiment\n",
    "mdl.run_experiment(data, pipeline, params, n_experiments)"
   ]
  },
  {
   "cell_type": "code",
   "execution_count": null,
   "id": "bbc05a2e-1b6c-4b37-99b0-cbf9e1056d3a",
   "metadata": {},
   "outputs": [],
   "source": [
    "scaler = StandardScaler()\n",
    "pca = PCA(0.99, random_state=42)\n",
    "model = Ridge(random_state=42)\n",
    "\n",
    "pipeline = Pipeline([('scaler', scaler),\n",
    "                     ('pca', pca),\n",
    "                     ('model', model)])\n",
    "params = {}\n",
    "n_experiments = 1\n",
    "\n",
    "# run experiment\n",
    "mdl.run_experiment(data, pipeline, params, n_experiments)"
   ]
  },
  {
   "cell_type": "code",
   "execution_count": null,
   "id": "daf3561a-56d9-4bf6-bf9d-cb1f7999200c",
   "metadata": {},
   "outputs": [],
   "source": [
    "model = Ridge(alpha=0.1, random_state=42)\n",
    "\n",
    "pipeline = Pipeline([('model', model)])\n",
    "params = {}\n",
    "n_experiments = 1\n",
    "\n",
    "# run experiment\n",
    "mdl.run_experiment(data, pipeline, params, n_experiments)"
   ]
  },
  {
   "cell_type": "code",
   "execution_count": null,
   "id": "50510cb3-5b5e-4d98-8328-4ffbe55a9fd4",
   "metadata": {},
   "outputs": [],
   "source": [
    "scaler = StandardScaler()\n",
    "model = Ridge(alpha=0.1, random_state=42)\n",
    "\n",
    "pipeline = Pipeline([('scaler', scaler),\n",
    "                     ('model', model)])\n",
    "params = {}\n",
    "n_experiments = 1\n",
    "\n",
    "# run experiment\n",
    "mdl.run_experiment(data, pipeline, params, n_experiments)"
   ]
  },
  {
   "cell_type": "code",
   "execution_count": null,
   "id": "4c913139-6ea6-41ff-829c-06efff8eb328",
   "metadata": {},
   "outputs": [],
   "source": [
    "scaler = StandardScaler()\n",
    "pca = PCA(0.99, random_state=42)\n",
    "model = Ridge(alpha=0.1, random_state=42)\n",
    "\n",
    "pipeline = Pipeline([('scaler', scaler),\n",
    "                     ('pca', pca),\n",
    "                     ('model', model)])\n",
    "params = {}\n",
    "n_experiments = 1\n",
    "\n",
    "# run experiment\n",
    "mdl.run_experiment(data, pipeline, params, n_experiments)"
   ]
  },
  {
   "cell_type": "markdown",
   "id": "876fc027-f6cf-4f0b-bbee-0143681a1ada",
   "metadata": {},
   "source": [
    "## ElasticNet Regression (L1 & L2 Regularization)"
   ]
  },
  {
   "cell_type": "code",
   "execution_count": null,
   "id": "f4626f99-c9b3-4f19-a74e-7239d08735d4",
   "metadata": {},
   "outputs": [],
   "source": [
    "scaler = StandardScaler()\n",
    "model = ElasticNet(random_state=42)\n",
    "\n",
    "pipeline = Pipeline([('scaler', scaler),\n",
    "                     ('model', model)])\n",
    "params = {}\n",
    "n_experiments = 1\n",
    "\n",
    "# run experiment\n",
    "mdl.run_experiment(data, pipeline, params, n_experiments)"
   ]
  },
  {
   "cell_type": "code",
   "execution_count": null,
   "id": "522363d9-8fbe-49bd-9699-d6627a4755ca",
   "metadata": {},
   "outputs": [],
   "source": [
    "scaler = StandardScaler()\n",
    "pca = PCA(0.99, random_state=42)\n",
    "model = ElasticNet(random_state=42)\n",
    "\n",
    "pipeline = Pipeline([('scaler', scaler),\n",
    "                     ('pca', pca),\n",
    "                     ('model', model)])\n",
    "params = {}\n",
    "n_experiments = 1\n",
    "\n",
    "# run experiment\n",
    "mdl.run_experiment(data, pipeline, params, n_experiments)"
   ]
  },
  {
   "cell_type": "markdown",
   "id": "b0886bda-178d-4fdf-ab81-f1f11640052a",
   "metadata": {},
   "source": [
    "## SGDRegressor"
   ]
  },
  {
   "cell_type": "code",
   "execution_count": null,
   "id": "6572a686-79f2-4e59-aeb7-a7d56160fd9d",
   "metadata": {},
   "outputs": [],
   "source": [
    "model = SGDRegressor(random_state=42)\n",
    "\n",
    "pipeline = Pipeline([('model', model)])\n",
    "params = {}\n",
    "n_experiments = 1\n",
    "\n",
    "# run experiment\n",
    "mdl.run_experiment(data, pipeline, params, n_experiments)"
   ]
  },
  {
   "cell_type": "code",
   "execution_count": null,
   "id": "a86463de-c7ad-45be-a6f6-50df43fc20d7",
   "metadata": {},
   "outputs": [],
   "source": [
    "scaler = StandardScaler()\n",
    "model = SGDRegressor(random_state=42)\n",
    "\n",
    "pipeline = Pipeline([('scaler', scaler),\n",
    "                     ('model', model)])\n",
    "params = {}\n",
    "n_experiments = 1\n",
    "\n",
    "# run experiment\n",
    "mdl.run_experiment(data, pipeline, params, n_experiments)"
   ]
  },
  {
   "cell_type": "code",
   "execution_count": null,
   "id": "3473fa37-8d6e-4850-8772-12cb3b0b4bbf",
   "metadata": {},
   "outputs": [],
   "source": [
    "scaler = StandardScaler()\n",
    "pca = PCA(0.99, random_state=42)\n",
    "model = SGDRegressor(random_state=42)\n",
    "\n",
    "pipeline = Pipeline([('scaler', scaler),\n",
    "                     ('pca', pca),\n",
    "                     ('model', model)])\n",
    "params = {}\n",
    "n_experiments = 1\n",
    "\n",
    "# run experiment\n",
    "mdl.run_experiment(data, pipeline, params, n_experiments)"
   ]
  },
  {
   "cell_type": "markdown",
   "id": "f1133de1-f972-451e-8d55-887a4087e5cc",
   "metadata": {},
   "source": [
    "## RandomForestRegressor"
   ]
  },
  {
   "cell_type": "code",
   "execution_count": null,
   "id": "2c2e4af5-294a-45fa-9410-713a99d2505f",
   "metadata": {},
   "outputs": [],
   "source": [
    "model = RandomForestRegressor(random_state=42, n_jobs=-1)\n",
    "\n",
    "pipeline = Pipeline([('model', model)])\n",
    "params = {}\n",
    "n_experiments = 1\n",
    "\n",
    "# run experiment\n",
    "mdl.run_experiment(data, pipeline, params, n_experiments)"
   ]
  },
  {
   "cell_type": "code",
   "execution_count": null,
   "id": "d71014c5-89ca-4b2f-b77a-b41b690a81e1",
   "metadata": {},
   "outputs": [],
   "source": [
    "scaler = StandardScaler()\n",
    "model = RandomForestRegressor(random_state=42, n_jobs=-1)\n",
    "\n",
    "pipeline = Pipeline([('scaler', scaler),\n",
    "                     ('model', model)])\n",
    "params = {}\n",
    "n_experiments = 1\n",
    "\n",
    "# run experiment\n",
    "mdl.run_experiment(data, pipeline, params, n_experiments)"
   ]
  },
  {
   "cell_type": "code",
   "execution_count": null,
   "id": "76ae1f1f-8b80-40e5-bc47-633e4b2b9c7e",
   "metadata": {},
   "outputs": [],
   "source": [
    "scaler = StandardScaler()\n",
    "pca = PCA(0.99, random_state=42)\n",
    "model = RandomForestRegressor(random_state=42, n_jobs=-1)\n",
    "\n",
    "pipeline = Pipeline([('scaler', scaler),\n",
    "                     ('pca', pca),\n",
    "                     ('model', model)])\n",
    "params = {}\n",
    "n_experiments = 1\n",
    "\n",
    "# run experiment\n",
    "mdl.run_experiment(data, pipeline, params, n_experiments)"
   ]
  },
  {
   "cell_type": "code",
   "execution_count": null,
   "id": "3fa832c4-fbac-4f83-bbb2-77c95e05a3bc",
   "metadata": {},
   "outputs": [],
   "source": [
    "scaler = StandardScaler()\n",
    "pca = PCA(0.99, random_state=42)\n",
    "model = RandomForestRegressor(\n",
    "    criterion='mse',\n",
    "    n_jobs=-1,\n",
    "    random_state=42\n",
    ")\n",
    "\n",
    "pipeline = Pipeline([('scaler', scaler),\n",
    "                     ('pca', pca),\n",
    "                     ('model', model)])\n",
    "\n",
    "\n",
    "params = {'model__n_estimators' : range(100, 200, 10),\n",
    "          'model__min_samples_leaf' : [i for i in range(2, 21)],\n",
    "          'model__min_samples_split' : [0.05, 0.1, 0.15, 0.2, 0.25, 0.3],\n",
    "          'model__max_depth' : [i for i in range(4, 10)],\n",
    "          #'model__min_weight_fraction_leaf' : [0.0],\n",
    "          #'model__max_features' : range(10, len(X_train.columns)),\n",
    "          #'model__max_leaf_nodes' : [None],\n",
    "          'model__warm_start' : [True, False]\n",
    "         }\n",
    "\n",
    "n_experiments = 1\n",
    "\n",
    "# run experiment\n",
    "mdl.run_experiment(data, pipeline, params, n_experiments)"
   ]
  },
  {
   "cell_type": "code",
   "execution_count": null,
   "id": "458b7764-26e4-44e9-9cdb-cd5370759290",
   "metadata": {},
   "outputs": [],
   "source": []
  }
 ],
 "metadata": {
  "kernelspec": {
   "display_name": "Python3 tf2",
   "language": "python",
   "name": "tf2"
  },
  "language_info": {
   "codemirror_mode": {
    "name": "ipython",
    "version": 3
   },
   "file_extension": ".py",
   "mimetype": "text/x-python",
   "name": "python",
   "nbconvert_exporter": "python",
   "pygments_lexer": "ipython3",
   "version": "3.9.5"
  }
 },
 "nbformat": 4,
 "nbformat_minor": 5
}
