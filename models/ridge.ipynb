{
 "cells": [
  {
   "cell_type": "code",
   "execution_count": null,
   "id": "c478e3ff-1a7f-40b1-86f4-0b1c10761392",
   "metadata": {},
   "outputs": [],
   "source": [
    "import os\n",
    "os.chdir('..')"
   ]
  },
  {
   "cell_type": "code",
   "execution_count": null,
   "id": "6ccbd02c-762b-472d-bdb1-e8778802d7e3",
   "metadata": {},
   "outputs": [],
   "source": [
    "import numpy as np\n",
    "import pandas as pd\n",
    "\n",
    "import src.model as mdl\n",
    "import src.viz as viz\n",
    "\n",
    "pd.options.display.float_format = '{:.8f}'.format\n",
    "pd.options.display.max_rows = 200\n",
    "pd.options.display.max_columns = 200"
   ]
  },
  {
   "cell_type": "code",
   "execution_count": null,
   "id": "37a60b18-6c14-4ce6-af6f-46c924f262ef",
   "metadata": {
    "scrolled": true,
    "tags": []
   },
   "outputs": [],
   "source": [
    "train = pd.read_pickle('data/final/train.pkl')"
   ]
  },
  {
   "cell_type": "code",
   "execution_count": null,
   "id": "c07702c1-06b4-4bb4-9eca-165c48b578fa",
   "metadata": {},
   "outputs": [],
   "source": [
    "# check for nulls\n",
    "#train.isnull().describe().transpose()"
   ]
  },
  {
   "cell_type": "code",
   "execution_count": null,
   "id": "3126deb8-5fb6-40aa-bcd1-71859acffcd9",
   "metadata": {
    "scrolled": true,
    "tags": []
   },
   "outputs": [],
   "source": [
    "# check feature distributions\n",
    "#train.describe().transpose()"
   ]
  },
  {
   "cell_type": "code",
   "execution_count": null,
   "id": "42cd86b0-62db-48fd-85c7-04bae9b16a30",
   "metadata": {
    "scrolled": true,
    "tags": []
   },
   "outputs": [],
   "source": [
    "#viz.correlation(train)"
   ]
  },
  {
   "cell_type": "code",
   "execution_count": null,
   "id": "c5cf6f35-0cdd-44cd-bb5d-87974b67baa0",
   "metadata": {},
   "outputs": [],
   "source": [
    "data = mdl.get_data(path=train)\n",
    "#X_train, y_train, X_val, y_val = data"
   ]
  },
  {
   "cell_type": "markdown",
   "id": "cbfd10f6-15ab-44fe-970c-7b97b0aaa770",
   "metadata": {},
   "source": [
    "## Import Models To Train"
   ]
  },
  {
   "cell_type": "code",
   "execution_count": null,
   "id": "ef561111-34fe-4d45-9d15-c9aee31a5f1f",
   "metadata": {},
   "outputs": [],
   "source": [
    "from sklearn.pipeline import Pipeline\n",
    "from sklearn.preprocessing import StandardScaler, MinMaxScaler, RobustScaler, QuantileTransformer\n",
    "from sklearn.decomposition import PCA\n",
    "from sklearn.linear_model import Ridge"
   ]
  },
  {
   "cell_type": "markdown",
   "id": "f6c04e7a-4ebf-4764-9e4e-a56f75bd0952",
   "metadata": {},
   "source": [
    "## Ridge Regression (L2 Regularization)"
   ]
  },
  {
   "cell_type": "code",
   "execution_count": null,
   "id": "97b1a30c-db7d-4223-a6a4-0c88cb5122b5",
   "metadata": {},
   "outputs": [],
   "source": [
    "model = Ridge(random_state=42)\n",
    "\n",
    "pipeline = Pipeline([('model', model)])\n",
    "params = {}\n",
    "n_experiments = 1\n",
    "n_jobs = -1\n",
    "random_state = None\n",
    "scoring='neg_mean_squared_error'\n",
    "\n",
    "# run experiment\n",
    "mdl.run_experiment(data, pipeline, params, n_experiments, n_jobs, random_state, scoring)"
   ]
  },
  {
   "cell_type": "code",
   "execution_count": null,
   "id": "0416c8c1-9f95-4988-ab53-cf1e56f62d1a",
   "metadata": {},
   "outputs": [],
   "source": [
    "scaler = StandardScaler()\n",
    "model = Ridge(random_state=42)\n",
    "\n",
    "pipeline = Pipeline([('scaler', scaler),\n",
    "                     ('model', model)])\n",
    "params = {}\n",
    "n_experiments = 1\n",
    "n_jobs = -1\n",
    "random_state = None\n",
    "scoring='neg_mean_squared_error'\n",
    "\n",
    "# run experiment\n",
    "mdl.run_experiment(data, pipeline, params, n_experiments, n_jobs, random_state, scoring)"
   ]
  },
  {
   "cell_type": "code",
   "execution_count": null,
   "id": "bbc05a2e-1b6c-4b37-99b0-cbf9e1056d3a",
   "metadata": {},
   "outputs": [],
   "source": [
    "scaler = StandardScaler()\n",
    "pca = PCA(0.99, random_state=42)\n",
    "model = Ridge(random_state=42)\n",
    "\n",
    "pipeline = Pipeline([('scaler', scaler),\n",
    "                     ('pca', pca),\n",
    "                     ('model', model)])\n",
    "params = {}\n",
    "n_experiments = 1\n",
    "n_jobs = -1\n",
    "random_state = None\n",
    "scoring='neg_mean_squared_error'\n",
    "\n",
    "# run experiment\n",
    "mdl.run_experiment(data, pipeline, params, n_experiments, n_jobs, random_state, scoring)"
   ]
  },
  {
   "cell_type": "code",
   "execution_count": null,
   "id": "daf3561a-56d9-4bf6-bf9d-cb1f7999200c",
   "metadata": {},
   "outputs": [],
   "source": [
    "model = Ridge(alpha=0.1, random_state=42)\n",
    "\n",
    "pipeline = Pipeline([('model', model)])\n",
    "params = {}\n",
    "n_experiments = 1\n",
    "n_jobs = -1\n",
    "random_state = None\n",
    "scoring='neg_mean_squared_error'\n",
    "\n",
    "# run experiment\n",
    "mdl.run_experiment(data, pipeline, params, n_experiments, n_jobs, random_state, scoring)"
   ]
  },
  {
   "cell_type": "code",
   "execution_count": null,
   "id": "50510cb3-5b5e-4d98-8328-4ffbe55a9fd4",
   "metadata": {},
   "outputs": [],
   "source": [
    "scaler = StandardScaler()\n",
    "model = Ridge(alpha=0.1, random_state=42)\n",
    "\n",
    "pipeline = Pipeline([('scaler', scaler),\n",
    "                     ('model', model)])\n",
    "params = {}\n",
    "n_experiments = 1\n",
    "n_jobs = -1\n",
    "random_state = None\n",
    "scoring='neg_mean_squared_error'\n",
    "\n",
    "# run experiment\n",
    "mdl.run_experiment(data, pipeline, params, n_experiments, n_jobs, random_state, scoring)"
   ]
  },
  {
   "cell_type": "code",
   "execution_count": null,
   "id": "4c913139-6ea6-41ff-829c-06efff8eb328",
   "metadata": {},
   "outputs": [],
   "source": [
    "scaler = StandardScaler()\n",
    "pca = PCA(0.99, random_state=42)\n",
    "model = Ridge(alpha=0.1, random_state=42)\n",
    "\n",
    "pipeline = Pipeline([('scaler', scaler),\n",
    "                     ('pca', pca),\n",
    "                     ('model', model)])\n",
    "params = {}\n",
    "n_experiments = 1\n",
    "n_jobs = -1\n",
    "random_state = None\n",
    "scoring='neg_mean_squared_error'\n",
    "\n",
    "# run experiment\n",
    "mdl.run_experiment(data, pipeline, params, n_experiments, n_jobs, random_state, scoring)"
   ]
  },
  {
   "cell_type": "code",
   "execution_count": null,
   "id": "458b7764-26e4-44e9-9cdb-cd5370759290",
   "metadata": {},
   "outputs": [],
   "source": []
  }
 ],
 "metadata": {
  "kernelspec": {
   "display_name": "Python3 tf2",
   "language": "python",
   "name": "tf2"
  },
  "language_info": {
   "codemirror_mode": {
    "name": "ipython",
    "version": 3
   },
   "file_extension": ".py",
   "mimetype": "text/x-python",
   "name": "python",
   "nbconvert_exporter": "python",
   "pygments_lexer": "ipython3",
   "version": "3.9.5"
  }
 },
 "nbformat": 4,
 "nbformat_minor": 5
}
