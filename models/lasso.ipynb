{
 "cells": [
  {
   "cell_type": "code",
   "execution_count": null,
   "id": "f1d20ac0-7888-42dd-8ff6-c096670cf78d",
   "metadata": {},
   "outputs": [],
   "source": [
    "import os\n",
    "os.chdir('..')"
   ]
  },
  {
   "cell_type": "code",
   "execution_count": null,
   "id": "6ccbd02c-762b-472d-bdb1-e8778802d7e3",
   "metadata": {},
   "outputs": [],
   "source": [
    "import numpy as np\n",
    "import pandas as pd\n",
    "\n",
    "import src.model as mdl\n",
    "import src.viz as viz\n",
    "\n",
    "pd.options.display.float_format = '{:.8f}'.format\n",
    "pd.options.display.max_rows = 200\n",
    "pd.options.display.max_columns = 200"
   ]
  },
  {
   "cell_type": "code",
   "execution_count": null,
   "id": "37a60b18-6c14-4ce6-af6f-46c924f262ef",
   "metadata": {
    "scrolled": true,
    "tags": []
   },
   "outputs": [],
   "source": [
    "train = pd.read_pickle('data/final/train.pkl')"
   ]
  },
  {
   "cell_type": "code",
   "execution_count": null,
   "id": "c07702c1-06b4-4bb4-9eca-165c48b578fa",
   "metadata": {},
   "outputs": [],
   "source": [
    "# check for nulls\n",
    "#train.isnull().describe().transpose()"
   ]
  },
  {
   "cell_type": "code",
   "execution_count": null,
   "id": "3126deb8-5fb6-40aa-bcd1-71859acffcd9",
   "metadata": {
    "scrolled": true,
    "tags": []
   },
   "outputs": [],
   "source": [
    "# check feature distributions\n",
    "#train.describe().transpose()"
   ]
  },
  {
   "cell_type": "code",
   "execution_count": null,
   "id": "42cd86b0-62db-48fd-85c7-04bae9b16a30",
   "metadata": {
    "scrolled": true,
    "tags": []
   },
   "outputs": [],
   "source": [
    "#viz.correlation(train)"
   ]
  },
  {
   "cell_type": "code",
   "execution_count": null,
   "id": "c5cf6f35-0cdd-44cd-bb5d-87974b67baa0",
   "metadata": {},
   "outputs": [],
   "source": [
    "data = mdl.get_data(path=train)\n",
    "#X_train, y_train, X_val, y_val = data"
   ]
  },
  {
   "cell_type": "markdown",
   "id": "cbfd10f6-15ab-44fe-970c-7b97b0aaa770",
   "metadata": {},
   "source": [
    "## Import Models To Train"
   ]
  },
  {
   "cell_type": "code",
   "execution_count": null,
   "id": "ef561111-34fe-4d45-9d15-c9aee31a5f1f",
   "metadata": {},
   "outputs": [],
   "source": [
    "from sklearn.pipeline import Pipeline\n",
    "from sklearn.preprocessing import StandardScaler, MinMaxScaler, RobustScaler, QuantileTransformer\n",
    "from sklearn.decomposition import PCA\n",
    "from sklearn.linear_model import LinearRegression, Lasso"
   ]
  },
  {
   "cell_type": "markdown",
   "id": "28f41c4c-5bac-49b0-9590-f2a9ffcc0d88",
   "metadata": {},
   "source": [
    "## Baseline Linear Regression"
   ]
  },
  {
   "cell_type": "code",
   "execution_count": null,
   "id": "a36c945d-dffd-458e-bbaf-fd8a96066a51",
   "metadata": {},
   "outputs": [],
   "source": [
    "scaler = StandardScaler()\n",
    "model = LinearRegression()\n",
    "\n",
    "pipeline = Pipeline([('scaler', scaler),\n",
    "                     ('model', model)])\n",
    "params = {}\n",
    "n_experiments = 1\n",
    "n_jobs = -1\n",
    "random_state = None\n",
    "scoring='neg_mean_squared_error'\n",
    "\n",
    "# run experiment\n",
    "mdl.run_experiment(data, pipeline, params, n_experiments, n_jobs, random_state, scoring)"
   ]
  },
  {
   "cell_type": "markdown",
   "id": "3892dfe9-0400-4709-9f40-f21edf77090b",
   "metadata": {},
   "source": [
    "## Lasso Regression (L1 Regularization)"
   ]
  },
  {
   "cell_type": "code",
   "execution_count": null,
   "id": "be3d19bc-edb6-47f7-9ed2-de6d3c652d10",
   "metadata": {},
   "outputs": [],
   "source": [
    "scaler = StandardScaler()\n",
    "model = Lasso(alpha=0.5, random_state=42)\n",
    "\n",
    "pipeline = Pipeline([('scaler', scaler),\n",
    "                     ('model', model)])\n",
    "params = {}\n",
    "n_experiments = 1\n",
    "n_jobs = -1\n",
    "random_state = None\n",
    "scoring='neg_mean_squared_error'\n",
    "\n",
    "# run experiment\n",
    "mdl.run_experiment(data, pipeline, params, n_experiments, n_jobs, random_state, scoring)"
   ]
  },
  {
   "cell_type": "code",
   "execution_count": null,
   "id": "5ceb676f-34ab-4de2-a242-11260131226d",
   "metadata": {},
   "outputs": [],
   "source": [
    "scaler = StandardScaler()\n",
    "pca = PCA(0.99, random_state=42)\n",
    "model = Lasso(alpha=0.5, random_state=42)\n",
    "\n",
    "pipeline = Pipeline([('scaler', scaler),\n",
    "                     ('pca', pca),\n",
    "                     ('model', model)])\n",
    "params = {}\n",
    "n_experiments = 1\n",
    "n_jobs = -1\n",
    "random_state = None\n",
    "scoring='neg_mean_squared_error'\n",
    "\n",
    "# run experiment\n",
    "mdl.run_experiment(data, pipeline, params, n_experiments, n_jobs, random_state, scoring)"
   ]
  },
  {
   "cell_type": "code",
   "execution_count": null,
   "id": "92776393-fa07-4e91-a1bc-173619183b00",
   "metadata": {},
   "outputs": [],
   "source": [
    "scaler = StandardScaler()\n",
    "model = Lasso(random_state=42)\n",
    "\n",
    "pipeline = Pipeline([('scaler', scaler),\n",
    "                     ('model', model)])\n",
    "params = {'model__alpha' : [0.1, 0.2, 0.3, 0.4, 0.6]}\n",
    "n_experiments = 3\n",
    "n_jobs = -1\n",
    "random_state = None\n",
    "scoring='neg_mean_squared_error'\n",
    "\n",
    "# run experiment\n",
    "mdl.run_experiment(data, pipeline, params, n_experiments, n_jobs, random_state, scoring)"
   ]
  },
  {
   "cell_type": "code",
   "execution_count": null,
   "id": "cf15ed61-4bb0-4df0-ac02-7e14fc75ef24",
   "metadata": {},
   "outputs": [],
   "source": [
    "scaler = StandardScaler()\n",
    "pca = PCA(random_state=42)\n",
    "model = Lasso(random_state=42)\n",
    "\n",
    "pipeline = Pipeline([('scaler', scaler),\n",
    "                     ('pca', pca),\n",
    "                     ('model', model)])\n",
    "params = {'model__alpha' : [0.1, 0.2, 0.3, 0.4, 0.5, 0.6],\n",
    "          'pca__n_components' : [0.7, 0.75, 0.8, 0.85, 0.9, 0.95]}\n",
    "n_experiments = 3\n",
    "n_jobs = -1\n",
    "random_state = None\n",
    "scoring='neg_mean_squared_error'\n",
    "\n",
    "# run experiment\n",
    "mdl.run_experiment(data, pipeline, params, n_experiments, n_jobs, random_state, scoring)"
   ]
  },
  {
   "cell_type": "code",
   "execution_count": null,
   "id": "458b7764-26e4-44e9-9cdb-cd5370759290",
   "metadata": {},
   "outputs": [],
   "source": []
  }
 ],
 "metadata": {
  "kernelspec": {
   "display_name": "Python3 tf2",
   "language": "python",
   "name": "tf2"
  },
  "language_info": {
   "codemirror_mode": {
    "name": "ipython",
    "version": 3
   },
   "file_extension": ".py",
   "mimetype": "text/x-python",
   "name": "python",
   "nbconvert_exporter": "python",
   "pygments_lexer": "ipython3",
   "version": "3.9.5"
  }
 },
 "nbformat": 4,
 "nbformat_minor": 5
}
