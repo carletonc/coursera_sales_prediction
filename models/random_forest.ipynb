{
 "cells": [
  {
   "cell_type": "code",
   "execution_count": null,
   "id": "ecff0f79-a08d-4ffc-8030-53e097ae9017",
   "metadata": {},
   "outputs": [],
   "source": [
    "import os\n",
    "os.chdir('..')"
   ]
  },
  {
   "cell_type": "code",
   "execution_count": null,
   "id": "6ccbd02c-762b-472d-bdb1-e8778802d7e3",
   "metadata": {},
   "outputs": [],
   "source": [
    "import numpy as np\n",
    "import pandas as pd\n",
    "\n",
    "import src.model as mdl\n",
    "import src.viz as viz\n",
    "\n",
    "pd.options.display.float_format = '{:.8f}'.format\n",
    "pd.options.display.max_rows = 200\n",
    "pd.options.display.max_columns = 200"
   ]
  },
  {
   "cell_type": "code",
   "execution_count": null,
   "id": "37a60b18-6c14-4ce6-af6f-46c924f262ef",
   "metadata": {
    "scrolled": true,
    "tags": []
   },
   "outputs": [],
   "source": [
    "train = pd.read_pickle('data/final/train.pkl')"
   ]
  },
  {
   "cell_type": "code",
   "execution_count": null,
   "id": "c07702c1-06b4-4bb4-9eca-165c48b578fa",
   "metadata": {},
   "outputs": [],
   "source": [
    "# check for nulls\n",
    "#train.isnull().describe().transpose()"
   ]
  },
  {
   "cell_type": "code",
   "execution_count": null,
   "id": "3126deb8-5fb6-40aa-bcd1-71859acffcd9",
   "metadata": {
    "scrolled": true,
    "tags": []
   },
   "outputs": [],
   "source": [
    "# check feature distributions\n",
    "#train.describe().transpose()"
   ]
  },
  {
   "cell_type": "code",
   "execution_count": null,
   "id": "42cd86b0-62db-48fd-85c7-04bae9b16a30",
   "metadata": {
    "scrolled": true,
    "tags": []
   },
   "outputs": [],
   "source": [
    "#viz.correlation(train)"
   ]
  },
  {
   "cell_type": "code",
   "execution_count": null,
   "id": "c5cf6f35-0cdd-44cd-bb5d-87974b67baa0",
   "metadata": {},
   "outputs": [],
   "source": [
    "data = mdl.get_data(path=train)\n",
    "#X_train, y_train, X_val, y_val = data"
   ]
  },
  {
   "cell_type": "markdown",
   "id": "cbfd10f6-15ab-44fe-970c-7b97b0aaa770",
   "metadata": {},
   "source": [
    "## Import Models To Train"
   ]
  },
  {
   "cell_type": "code",
   "execution_count": null,
   "id": "ef561111-34fe-4d45-9d15-c9aee31a5f1f",
   "metadata": {},
   "outputs": [],
   "source": [
    "from sklearn.pipeline import Pipeline\n",
    "from sklearn.preprocessing import StandardScaler, MinMaxScaler, RobustScaler, QuantileTransformer\n",
    "from sklearn.decomposition import PCA\n",
    "from sklearn.ensemble import RandomForestRegressor"
   ]
  },
  {
   "cell_type": "markdown",
   "id": "b0886bda-178d-4fdf-ab81-f1f11640052a",
   "metadata": {},
   "source": [
    "## Random Forest"
   ]
  },
  {
   "cell_type": "code",
   "execution_count": null,
   "id": "a86463de-c7ad-45be-a6f6-50df43fc20d7",
   "metadata": {},
   "outputs": [],
   "source": [
    "model = RandomForestRegressor(\n",
    "    criterion='mse',\n",
    "    n_jobs=-1,\n",
    "    random_state=42\n",
    ")\n",
    "\n",
    "pipeline = Pipeline([('model', model)])\n",
    "\n",
    "\n",
    "params = {'model__n_estimators' : range(100, 200, 10),\n",
    "          'model__min_samples_leaf' : [i for i in range(2, 21)],\n",
    "          'model__min_samples_split' : [0.05, 0.1, 0.15, 0.2, 0.25, 0.3],\n",
    "          'model__max_depth' : [i for i in range(4, 10)],\n",
    "          #'model__min_weight_fraction_leaf' : [0.0],\n",
    "          #'model__max_features' : range(10, len(X_train.columns)),\n",
    "          #'model__max_leaf_nodes' : [None],\n",
    "          'model__warm_start' : [True, False]\n",
    "         }\n",
    "\n",
    "n_experiments = 1\n",
    "n_jobs = -1\n",
    "random_state = None\n",
    "scoring='neg_mean_squared_error'\n",
    "\n",
    "# run experiment\n",
    "mdl.run_experiment(data, pipeline, params, n_experiments, n_jobs, random_state, scoring)"
   ]
  },
  {
   "cell_type": "code",
   "execution_count": null,
   "id": "3473fa37-8d6e-4850-8772-12cb3b0b4bbf",
   "metadata": {},
   "outputs": [],
   "source": [
    "scaler = StandardScaler()\n",
    "model = RandomForestRegressor(\n",
    "    criterion='mse',\n",
    "    n_jobs=-1,\n",
    "    random_state=42\n",
    ")\n",
    "\n",
    "pipeline = Pipeline([('scaler', scaler),\n",
    "                     ('model', model)])\n",
    "\n",
    "\n",
    "params = {'model__n_estimators' : range(100, 200, 10),\n",
    "          'model__min_samples_leaf' : [i for i in range(2, 21)],\n",
    "          'model__min_samples_split' : [0.05, 0.1, 0.15, 0.2, 0.25, 0.3],\n",
    "          'model__max_depth' : [i for i in range(4, 10)],\n",
    "          #'model__min_weight_fraction_leaf' : [0.0],\n",
    "          #'model__max_features' : range(10, len(X_train.columns)),\n",
    "          #'model__max_leaf_nodes' : [None],\n",
    "          'model__warm_start' : [True, False]\n",
    "         }\n",
    "\n",
    "n_experiments = 1\n",
    "n_jobs = -1\n",
    "random_state = None\n",
    "scoring='neg_mean_squared_error'\n",
    "\n",
    "# run experiment\n",
    "mdl.run_experiment(data, pipeline, params, n_experiments, n_jobs, random_state, scoring)"
   ]
  },
  {
   "cell_type": "code",
   "execution_count": null,
   "id": "d19be1d0-f0e4-45bd-9fa6-e62fef8a3533",
   "metadata": {},
   "outputs": [],
   "source": [
    "scaler = StandardScaler()\n",
    "pca = PCA(0.99, random_state=42)\n",
    "model = RandomForestRegressor(\n",
    "    criterion='mse',\n",
    "    n_jobs=-1,\n",
    "    random_state=42\n",
    ")\n",
    "\n",
    "pipeline = Pipeline([('scaler', scaler),\n",
    "                     ('pca', pca),\n",
    "                     ('model', model)])\n",
    "\n",
    "\n",
    "params = {'model__n_estimators' : range(100, 200, 10),\n",
    "          'model__min_samples_leaf' : [i for i in range(2, 21)],\n",
    "          'model__min_samples_split' : [0.05, 0.1, 0.15, 0.2, 0.25, 0.3],\n",
    "          'model__max_depth' : [i for i in range(4, 10)],\n",
    "          #'model__min_weight_fraction_leaf' : [0.0],\n",
    "          #'model__max_features' : range(10, len(X_train.columns)),\n",
    "          #'model__max_leaf_nodes' : [None],\n",
    "          'model__warm_start' : [True, False]\n",
    "         }\n",
    "\n",
    "n_experiments = 1\n",
    "n_jobs = -1\n",
    "random_state = None\n",
    "scoring='neg_mean_squared_error'\n",
    "\n",
    "# run experiment\n",
    "mdl.run_experiment(data, pipeline, params, n_experiments, n_jobs, random_state, scoring)"
   ]
  },
  {
   "cell_type": "code",
   "execution_count": null,
   "id": "458b7764-26e4-44e9-9cdb-cd5370759290",
   "metadata": {},
   "outputs": [],
   "source": []
  }
 ],
 "metadata": {
  "kernelspec": {
   "display_name": "Python3 tf2",
   "language": "python",
   "name": "tf2"
  },
  "language_info": {
   "codemirror_mode": {
    "name": "ipython",
    "version": 3
   },
   "file_extension": ".py",
   "mimetype": "text/x-python",
   "name": "python",
   "nbconvert_exporter": "python",
   "pygments_lexer": "ipython3",
   "version": "3.9.5"
  }
 },
 "nbformat": 4,
 "nbformat_minor": 5
}
