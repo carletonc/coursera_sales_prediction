{
 "cells": [
  {
   "cell_type": "code",
   "execution_count": null,
   "id": "f0f37fcf-b9dc-4dc5-83c9-d323bbb0d800",
   "metadata": {},
   "outputs": [],
   "source": [
    "import os\n",
    "os.chdir('..')"
   ]
  },
  {
   "cell_type": "code",
   "execution_count": null,
   "id": "883f8e8d-e1e0-41f6-9d09-ff2199bf542e",
   "metadata": {},
   "outputs": [],
   "source": [
    "import numpy as np\n",
    "import pandas as pd\n",
    "from sklearn.preprocessing import LabelBinarizer\n",
    "\n",
    "pd.options.display.float_format = '{:.5f}'.format\n",
    "pd.options.display.max_rows = 200\n",
    "pd.options.display.max_columns = 200"
   ]
  },
  {
   "cell_type": "code",
   "execution_count": null,
   "id": "51cd1890-9aeb-42c6-bffb-f463c579c799",
   "metadata": {},
   "outputs": [],
   "source": [
    "train = pd.read_pickle('tmp/data/processed/train.pkl')\n",
    "print(train.shape)\n",
    "train.head()"
   ]
  },
  {
   "cell_type": "code",
   "execution_count": null,
   "id": "242d3368-3db6-4ba6-afe1-2ec388087e74",
   "metadata": {},
   "outputs": [],
   "source": [
    "test = pd.read_pickle('tmp/data/processed/test_plus_features.pkl')\n",
    "print(test.shape)\n",
    "test.head()"
   ]
  },
  {
   "cell_type": "markdown",
   "id": "9a91f40b-cf32-4e08-b820-e762a3973506",
   "metadata": {},
   "source": [
    "Join Dataframes to create timelag features"
   ]
  },
  {
   "cell_type": "code",
   "execution_count": null,
   "id": "1a9d2fdc-4df3-44a0-abcb-6906d3bfc3bd",
   "metadata": {},
   "outputs": [],
   "source": [
    "train = pd.concat([train, test], ignore_index=True, sort=False).sort_values(['shop_id', 'item_id', 'date_block_num', 'month', 'year']).reset_index(drop=True)\n",
    "train.head()"
   ]
  },
  {
   "cell_type": "markdown",
   "id": "400d58a5-af25-41ef-a2c1-661bb20f3bde",
   "metadata": {},
   "source": [
    "## Add Time Lag Features\n",
    "Trailing or rolling averages that feed into the current month need to come from the previous month since we won't have that data available for the current month we need to predict."
   ]
  },
  {
   "cell_type": "code",
   "execution_count": null,
   "id": "266b9b88-724f-487e-a088-bc3dcd2cc37a",
   "metadata": {},
   "outputs": [],
   "source": [
    "smoothing=0.00000001\n",
    "\n",
    "def calculate_lag_delta(df, current_feature, previous_feature, smoothing):\n",
    "    # smooothing is merely to negate dividing by zero\n",
    "    return df[current_feature].add(smoothing) - df[previous_feature].add(smoothing) / df[previous_feature].add(smoothing)"
   ]
  },
  {
   "cell_type": "code",
   "execution_count": null,
   "id": "05e70bc6-1c4d-402e-ba1e-c91976f79bf6",
   "metadata": {},
   "outputs": [],
   "source": [
    "# item count lag\n",
    "train['item_cnt_lag_1m'] = train.groupby(['shop_id', 'item_id'])['item_cnt_month'].shift(1)\n",
    "train['item_cnt_lag_2m'] = train.groupby(['shop_id', 'item_id'])['item_cnt_month'].shift(2)\n",
    "train['item_cnt_lag_3m'] = train.groupby(['shop_id', 'item_id'])['item_cnt_month'].shift(3)\n",
    "train['item_cnt_lag_6m'] = train.groupby(['shop_id', 'item_id'])['item_cnt_month'].shift(6)\n",
    "train['item_cnt_lag_12m'] = train.groupby(['shop_id', 'item_id'])['item_cnt_month'].shift(12)\n",
    "train.head()"
   ]
  },
  {
   "cell_type": "code",
   "execution_count": null,
   "id": "2853fa94-1015-4c08-8f2e-0dcc1de3ef7f",
   "metadata": {},
   "outputs": [],
   "source": [
    "# item count % change\n",
    "train['item_cnt_lag_1m_delta'] = calculate_lag_delta(train, 'item_cnt_month', 'item_cnt_lag_1m', smoothing)\n",
    "train['item_cnt_lag_2m_delta'] = calculate_lag_delta(train, 'item_cnt_lag_1m', 'item_cnt_lag_2m', smoothing)\n",
    "train['item_cnt_lag_3m_delta'] = calculate_lag_delta(train, 'item_cnt_lag_2m', 'item_cnt_lag_3m', smoothing)\n",
    "train['item_cnt_lag_6m_delta'] = calculate_lag_delta(train, 'item_cnt_lag_3m', 'item_cnt_lag_6m', smoothing)\n",
    "train['item_cnt_lag_12m_delta'] = calculate_lag_delta(train, 'item_cnt_lag_6m', 'item_cnt_lag_12m', smoothing)\n",
    "train.head()"
   ]
  },
  {
   "cell_type": "code",
   "execution_count": null,
   "id": "bf3955ed-b9eb-419a-bbb2-d5aca5cf61c3",
   "metadata": {},
   "outputs": [],
   "source": [
    "# item count rolling stats\n",
    "train['item_cnt_3m_roll_mean'] = train.groupby(['shop_id', 'item_id']).rolling(3, min_periods=2)['item_cnt_lag_1m'].mean().reset_index(drop=True)\n",
    "train['item_cnt_6m_roll_mean'] = train.groupby(['shop_id', 'item_id']).rolling(6, min_periods=5)['item_cnt_lag_1m'].mean().reset_index(drop=True)\n",
    "train['item_cnt_12m_roll_mean'] = train.groupby(['shop_id', 'item_id']).rolling(12, min_periods=11)['item_cnt_lag_1m'].mean().reset_index(drop=True)\n",
    "\n",
    "train['item_cnt_3m_roll_std'] = train.groupby(['shop_id', 'item_id']).rolling(3, min_periods=2)['item_cnt_lag_1m'].std().reset_index(drop=True)\n",
    "train['item_cnt_6m_roll_std'] = train.groupby(['shop_id', 'item_id']).rolling(6, min_periods=5)['item_cnt_lag_1m'].std().reset_index(drop=True)\n",
    "train['item_cnt_12m_roll_std'] = train.groupby(['shop_id', 'item_id']).rolling(12, min_periods=11)['item_cnt_lag_1m'].std().reset_index(drop=True)\n",
    "\n",
    "train['item_cnt_3m_roll_median'] = train.groupby(['shop_id', 'item_id']).rolling(3, min_periods=2)['item_cnt_lag_1m'].median().reset_index(drop=True)\n",
    "train['item_cnt_6m_roll_median'] = train.groupby(['shop_id', 'item_id']).rolling(6, min_periods=5)['item_cnt_lag_1m'].median().reset_index(drop=True)\n",
    "train['item_cnt_12m_roll_median'] = train.groupby(['shop_id', 'item_id']).rolling(12, min_periods=11)['item_cnt_lag_1m'].median().reset_index(drop=True)\n",
    "train.head()"
   ]
  },
  {
   "cell_type": "code",
   "execution_count": null,
   "id": "4b6f6535-01b0-4dde-addf-8ea9eb8b5c4e",
   "metadata": {},
   "outputs": [],
   "source": [
    "# revenue lag\n",
    "train['revenue_lag_1m'] = train.groupby(['shop_id', 'item_id'])['revenue'].shift(1)\n",
    "train['revenue_lag_2m'] = train.groupby(['shop_id', 'item_id'])['revenue'].shift(2)\n",
    "train['revenue_lag_3m'] = train.groupby(['shop_id', 'item_id'])['revenue'].shift(3)\n",
    "train['revenue_lag_6m'] = train.groupby(['shop_id', 'item_id'])['revenue'].shift(6)\n",
    "train['revenue_lag_12m'] = train.groupby(['shop_id', 'item_id'])['revenue'].shift(12)\n",
    "train.head()"
   ]
  },
  {
   "cell_type": "code",
   "execution_count": null,
   "id": "563aeed4-e8c6-4561-917d-a132746e7968",
   "metadata": {},
   "outputs": [],
   "source": [
    "# revenue % change\n",
    "train['revenue_lag_1m_delta'] = calculate_lag_delta(train, 'revenue', 'revenue_lag_1m', smoothing)\n",
    "train['revenue_lag_2m_delta'] = calculate_lag_delta(train, 'revenue_lag_1m', 'revenue_lag_2m', smoothing)\n",
    "train['revenue_lag_3m_delta'] = calculate_lag_delta(train, 'revenue_lag_2m', 'revenue_lag_3m', smoothing)\n",
    "train['revenue_lag_6m_delta'] = calculate_lag_delta(train, 'revenue_lag_3m', 'revenue_lag_6m', smoothing)\n",
    "train['revenue_lag_12m_delta'] = calculate_lag_delta(train, 'revenue_lag_6m', 'revenue_lag_12m', smoothing)\n",
    "train.head()"
   ]
  },
  {
   "cell_type": "code",
   "execution_count": null,
   "id": "2dc88bb0-ace8-487b-b9a5-c0d942f6e6f1",
   "metadata": {},
   "outputs": [],
   "source": [
    "# revenue rolling stats\n",
    "train['revenue_3m_roll_mean'] = train.groupby(['shop_id', 'item_id']).rolling(3, min_periods=2)['revenue_lag_1m'].mean().reset_index(drop=True)\n",
    "train['revenue_6m_roll_mean'] = train.groupby(['shop_id', 'item_id']).rolling(6, min_periods=5)['revenue_lag_1m'].mean().reset_index(drop=True)\n",
    "train['revenue_12m_roll_mean'] = train.groupby(['shop_id', 'item_id']).rolling(12, min_periods=11)['revenue_lag_1m'].mean().reset_index(drop=True)\n",
    "\n",
    "train['revenue_3m_roll_std'] = train.groupby(['shop_id', 'item_id']).rolling(3, min_periods=2)['revenue_lag_1m'].std().reset_index(drop=True)\n",
    "train['revenue_6m_roll_std'] = train.groupby(['shop_id', 'item_id']).rolling(6, min_periods=5)['revenue_lag_1m'].std().reset_index(drop=True)\n",
    "train['revenue_12m_roll_std'] = train.groupby(['shop_id', 'item_id']).rolling(12, min_periods=11)['revenue_lag_1m'].std().reset_index(drop=True)\n",
    "\n",
    "train['revenue_3m_roll_median'] = train.groupby(['shop_id', 'item_id']).rolling(3, min_periods=2)['revenue_lag_1m'].median().reset_index(drop=True)\n",
    "train['revenue_6m_roll_median'] = train.groupby(['shop_id', 'item_id']).rolling(6, min_periods=5)['revenue_lag_1m'].median().reset_index(drop=True)\n",
    "train['revenue_12m_roll_median'] = train.groupby(['shop_id', 'item_id']).rolling(12, min_periods=11)['revenue_lag_1m'].median().reset_index(drop=True)\n",
    "train.head()"
   ]
  },
  {
   "cell_type": "code",
   "execution_count": null,
   "id": "11e7bb2a-9c7f-4d6e-a410-3f53ba36ffe1",
   "metadata": {},
   "outputs": [],
   "source": [
    "train['item_cnt_3m_mean_delta'] = train['item_cnt_lag_1m'] - train['item_cnt_3m_roll_mean']\n",
    "train['item_cnt_6m_mean_delta'] = train['item_cnt_lag_1m'] - train['item_cnt_6m_roll_mean']\n",
    "train['item_cnt_12m_mean_delta'] = train['item_cnt_lag_1m'] - train['item_cnt_12m_roll_mean']\n",
    "\n",
    "train['revenue_3m_mean_delta'] = train['revenue_lag_1m'] - train['revenue_3m_roll_mean']\n",
    "train['revenue_6m_mean_delta'] = train['revenue_lag_1m'] - train['revenue_6m_roll_mean']\n",
    "train['revenue_12m_mean_delta'] = train['revenue_lag_1m'] - train['revenue_12m_roll_mean']\n",
    "\n",
    "# Add feature checking to see if last months sales were above average\n",
    "#train['above_mean_item_cnt'] = 0\n",
    "#train.loc[train['item_cnt_lag_1m'] > train['item_cnt_6m_roll_mean'], 'above_mean_item_cnt'] = 1\n",
    "\n",
    "#train['above_mean_revenue'] = 0\n",
    "#train.loc[train['revenue_lag_1m'] > train['revenue_6m_roll_mean'], 'above_mean_revenue'] = 1\n",
    "\n",
    "# drop first 12 months due to lag\n",
    "train = train.loc[train['date_block_num']>11].reset_index(drop=True)\n",
    "\n",
    "# drop current month revenue since we won't know month 34 price\n",
    "train = train.drop('revenue', axis=1)\n",
    "\n",
    "train.head()"
   ]
  },
  {
   "cell_type": "markdown",
   "id": "b46d2058-7f24-43da-9768-16413c6ebd68",
   "metadata": {},
   "source": [
    "## Add binary features to training set"
   ]
  },
  {
   "cell_type": "code",
   "execution_count": null,
   "id": "f83c0dee-8b7e-4256-8b68-3a25868f5514",
   "metadata": {},
   "outputs": [],
   "source": [
    "shops = pd.read_pickle('tmp/data/processed/shops.pkl')\n",
    "shops.head()"
   ]
  },
  {
   "cell_type": "code",
   "execution_count": null,
   "id": "8fd5694c-eae1-40d6-b861-d74bc4dacd17",
   "metadata": {},
   "outputs": [],
   "source": [
    "cats = pd.read_pickle('tmp/data/processed/categories.pkl')\n",
    "cats.head()"
   ]
  },
  {
   "cell_type": "code",
   "execution_count": null,
   "id": "40d3a187-c28d-4315-946a-4eba679b4463",
   "metadata": {},
   "outputs": [],
   "source": [
    "shop_items = pd.read_pickle('tmp/data/processed/categoshop_itemsries.pkl')\n",
    "shop_items.head()"
   ]
  },
  {
   "cell_type": "code",
   "execution_count": null,
   "id": "0881dd4a-c859-4bde-8e61-f8389511bac7",
   "metadata": {
    "scrolled": true,
    "tags": []
   },
   "outputs": [],
   "source": [
    "train = train.merge(shops, on='shop_id', how='left')\n",
    "train = train.merge(cats, on='item_id', how='left')\n",
    "train = train.merge(shop_items, on=['shop_id', 'item_id'], how='left')\n",
    "\n",
    "print(train.shape)\n",
    "train.isnull().describe().transpose()"
   ]
  },
  {
   "cell_type": "markdown",
   "id": "89ffb290-e04f-4f53-95d9-3d251a39e3c7",
   "metadata": {},
   "source": [
    "## Save files for modeling & predicting on\n",
    "Rejoin manipulated test set to old test to maintain expected order of submission file for Kaggle."
   ]
  },
  {
   "cell_type": "code",
   "execution_count": null,
   "id": "e9ee8751-7f59-4732-9ffc-44949dfc47a8",
   "metadata": {},
   "outputs": [],
   "source": [
    "test = train.loc[train['date_block_num']==34].drop('item_cnt_month', axis=1).sort_values(['shop_id', 'item_id']).reset_index(drop=True)\n",
    "test_root = pd.read_pickle('tmp/data/processed/test_plus_features.pkl').drop(['revenue', 'item_cnt_month'], axis=1)\n",
    "test = test_root.merge(test, how='left', on=['date_block_num', 'month', 'year', 'shop_id', 'item_id'])\n",
    "\n",
    "test.to_pickle('tmp/data/final/test.pkl')\n",
    "print(test.shape)\n",
    "test.head()"
   ]
  },
  {
   "cell_type": "code",
   "execution_count": null,
   "id": "0952e42a-4e9a-4abc-b9db-a187919e7432",
   "metadata": {},
   "outputs": [],
   "source": [
    "train = train.loc[train['date_block_num']!=34].sort_values(['shop_id', 'item_id', 'date_block_num']).reset_index(drop=True)\n",
    "train.to_pickle('tmp/data/final/train.pkl')\n",
    "print(train.shape)\n",
    "train.head()"
   ]
  },
  {
   "cell_type": "code",
   "execution_count": null,
   "id": "c3bde2fc-7268-4037-9796-86f125343c04",
   "metadata": {},
   "outputs": [],
   "source": []
  }
 ],
 "metadata": {
  "kernelspec": {
   "display_name": "Python3 tf2",
   "language": "python",
   "name": "tf2"
  },
  "language_info": {
   "codemirror_mode": {
    "name": "ipython",
    "version": 3
   },
   "file_extension": ".py",
   "mimetype": "text/x-python",
   "name": "python",
   "nbconvert_exporter": "python",
   "pygments_lexer": "ipython3",
   "version": "3.9.5"
  }
 },
 "nbformat": 4,
 "nbformat_minor": 5
}
