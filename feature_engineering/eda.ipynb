{
 "cells": [
  {
   "cell_type": "code",
   "execution_count": null,
   "id": "57dc3210-084a-4891-b590-cf4cfc72b28d",
   "metadata": {},
   "outputs": [],
   "source": [
    "import os\n",
    "os.chdir('..')"
   ]
  },
  {
   "cell_type": "code",
   "execution_count": null,
   "id": "2c61fb2f-888c-4c40-8f31-ba9308732ee4",
   "metadata": {},
   "outputs": [],
   "source": [
    "import pandas as pd"
   ]
  },
  {
   "cell_type": "code",
   "execution_count": null,
   "id": "e221f114-c314-4aae-b1f2-672c698dce29",
   "metadata": {},
   "outputs": [],
   "source": [
    "sample_submission = pd.read_csv('data/raw/sample_submission.csv')\n",
    "print(sample_submission.shape)\n",
    "sample_submission.head()"
   ]
  },
  {
   "cell_type": "code",
   "execution_count": null,
   "id": "0aa602b9-499b-4408-9b12-7b4e6a581e86",
   "metadata": {},
   "outputs": [],
   "source": [
    "test = pd.read_csv('data/raw/test.csv').set_index('ID')\n",
    "print(test.shape)\n",
    "test.head()"
   ]
  },
  {
   "cell_type": "code",
   "execution_count": null,
   "id": "d78e7612-f914-412d-ba65-19b193451136",
   "metadata": {},
   "outputs": [],
   "source": [
    "unique_test_shops = test['shop_id'].unique().tolist()\n",
    "unique_test_items = test['item_id'].unique().tolist()\n",
    "print(f'Unique shops:\\t{len(unique_test_shops)}')\n",
    "print(f'Unique items:\\t{len(unique_test_items)}')"
   ]
  },
  {
   "cell_type": "code",
   "execution_count": null,
   "id": "6ff3be90-4c39-45ff-a3a0-37e2381c641f",
   "metadata": {},
   "outputs": [],
   "source": [
    "items = pd.read_csv('data/raw/items.csv')\n",
    "print(items.shape)\n",
    "items = items.loc[items['item_id'].isin(unique_test_items)]\n",
    "print(items.shape)\n",
    "items.head()"
   ]
  },
  {
   "cell_type": "code",
   "execution_count": null,
   "id": "74d2c088-c78c-447e-a900-4ed219934470",
   "metadata": {},
   "outputs": [],
   "source": [
    "unique_test_categories = items['item_category_id'].unique().tolist()\n",
    "print(f'Unique categories:\\t{len(unique_test_categories)}')"
   ]
  },
  {
   "cell_type": "code",
   "execution_count": null,
   "id": "f64962b4-691a-4c84-8519-119d5e7f58c7",
   "metadata": {},
   "outputs": [],
   "source": [
    "cats = pd.read_csv('data/raw/item_categories.csv')\n",
    "print(cats.shape)\n",
    "cats = cats.loc[cats['item_category_id'].isin(unique_test_categories)]\n",
    "print(cats.shape)\n",
    "cats.head()"
   ]
  },
  {
   "cell_type": "code",
   "execution_count": null,
   "id": "6ec8c2e9-483a-4064-96e4-11b7a8ddf8ed",
   "metadata": {},
   "outputs": [],
   "source": [
    "train = pd.read_csv('data/raw/sales_train.csv')\n",
    "print(train.shape)\n",
    "train = train.loc[(train['shop_id'].isin(unique_test_shops)) & (train['item_id'].isin(unique_test_items))]\n",
    "print(train.shape)\n",
    "train.head(5)"
   ]
  },
  {
   "cell_type": "code",
   "execution_count": null,
   "id": "5a72cf89-5fbe-4444-a5c5-126b7c39028f",
   "metadata": {},
   "outputs": [],
   "source": [
    "unique_train_shops = train['shop_id'].unique().tolist()\n",
    "unique_train_items = train['item_id'].unique().tolist()\n",
    "print(unique_train_shops == unique_test_shops)\n",
    "print(unique_train_items == unique_test_items)"
   ]
  }
 ],
 "metadata": {
  "kernelspec": {
   "display_name": "Python3 tf2",
   "language": "python",
   "name": "tf2"
  },
  "language_info": {
   "codemirror_mode": {
    "name": "ipython",
    "version": 3
   },
   "file_extension": ".py",
   "mimetype": "text/x-python",
   "name": "python",
   "nbconvert_exporter": "python",
   "pygments_lexer": "ipython3",
   "version": "3.9.5"
  }
 },
 "nbformat": 4,
 "nbformat_minor": 5
}
